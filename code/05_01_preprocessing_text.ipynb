{
 "cells": [
  {
   "cell_type": "markdown",
   "metadata": {},
   "source": [
    "# Text cleaning \n",
    "\n",
    "[Carlos Ortiz](https://www.linkedin.com/in/carlosortizdev/), [Sarah Santiago](https://www.linkedin.com/in/sarah-santiago-7a297b18a/), and [Vivek Datta](https://www.linkedin.com/in/vivek-datta/) did most of the coding. Jae Yeon Kim reviewed and modified the code slightly. Please use the `Python3` kernel to run this notebook."
   ]
  },
  {
   "cell_type": "markdown",
   "metadata": {},
   "source": [
    "## Import libraries"
   ]
  },
  {
   "cell_type": "code",
   "execution_count": 1,
   "metadata": {},
   "outputs": [
    {
     "name": "stderr",
     "output_type": "stream",
     "text": [
      "[nltk_data] Downloading package stopwords to /home/jae/nltk_data...\n",
      "[nltk_data]   Package stopwords is already up-to-date!\n"
     ]
    }
   ],
   "source": [
    "#Include relevant imports here\n",
    "\n",
    "import re\n",
    "import string\n",
    "from nltk.corpus import stopwords\n",
    "import nltk\n",
    "nltk.download('stopwords')\n",
    "\n",
    "# Data manipulation \n",
    "import numpy as np\n",
    "import warnings\n",
    "import pandas as pd\n",
    "from pandas.api.types import CategoricalDtype\n",
    "from sklearn.preprocessing import StandardScaler\n",
    "\n",
    "# Data visualization \n",
    "%matplotlib inline\n",
    "import matplotlib.pyplot as plt\n",
    "import seaborn as sns\n",
    "\n",
    "# ML\n",
    "from sklearn.linear_model import LogisticRegressionCV, LogisticRegression\n",
    "from sklearn.model_selection import train_test_split\n",
    "from sklearn.feature_extraction.text import CountVectorizer\n",
    "from sklearn.feature_extraction import DictVectorizer\n",
    "from sklearn.decomposition import PCA\n",
    "\n",
    "warnings.filterwarnings('ignore')"
   ]
  },
  {
   "cell_type": "markdown",
   "metadata": {},
   "source": [
    "## Import data "
   ]
  },
  {
   "cell_type": "code",
   "execution_count": 2,
   "metadata": {},
   "outputs": [],
   "source": [
    "# Read in scraped articles from csv file to dataframe\n",
    "articles = pd.read_csv('/home/jae/ITS-Text-Classification/raw_data/sample_articles.csv')"
   ]
  },
  {
   "cell_type": "markdown",
   "metadata": {},
   "source": [
    "## Clean data"
   ]
  },
  {
   "cell_type": "code",
   "execution_count": 3,
   "metadata": {},
   "outputs": [
    {
     "data": {
      "text/html": [
       "<div>\n",
       "<style scoped>\n",
       "    .dataframe tbody tr th:only-of-type {\n",
       "        vertical-align: middle;\n",
       "    }\n",
       "\n",
       "    .dataframe tbody tr th {\n",
       "        vertical-align: top;\n",
       "    }\n",
       "\n",
       "    .dataframe thead th {\n",
       "        text-align: right;\n",
       "    }\n",
       "</style>\n",
       "<table border=\"1\" class=\"dataframe\">\n",
       "  <thead>\n",
       "    <tr style=\"text-align: right;\">\n",
       "      <th></th>\n",
       "      <th>text</th>\n",
       "      <th>source</th>\n",
       "      <th>group</th>\n",
       "      <th>date</th>\n",
       "      <th>intervention</th>\n",
       "      <th>expanding</th>\n",
       "      <th>distancing</th>\n",
       "      <th>assimilating</th>\n",
       "    </tr>\n",
       "  </thead>\n",
       "  <tbody>\n",
       "    <tr>\n",
       "      <th>0</th>\n",
       "      <td>Third Rate Or Not, No Meddling Please! By UPEN...</td>\n",
       "      <td>News India - Times</td>\n",
       "      <td>Indian</td>\n",
       "      <td>1997-10-24</td>\n",
       "      <td>post</td>\n",
       "      <td>0.0</td>\n",
       "      <td>1.0</td>\n",
       "      <td>0.0</td>\n",
       "    </tr>\n",
       "    <tr>\n",
       "      <th>1</th>\n",
       "      <td>Phagwah Parade Draws Many By DHARMVIR GEHLAUT ...</td>\n",
       "      <td>News India - Times</td>\n",
       "      <td>Indian</td>\n",
       "      <td>2001-03-23</td>\n",
       "      <td>post</td>\n",
       "      <td>NaN</td>\n",
       "      <td>NaN</td>\n",
       "      <td>NaN</td>\n",
       "    </tr>\n",
       "    <tr>\n",
       "      <th>2</th>\n",
       "      <td>Advani Blames Congress And UF DALTONGUNJ, Biha...</td>\n",
       "      <td>News India - Times</td>\n",
       "      <td>Indian</td>\n",
       "      <td>1998-01-23</td>\n",
       "      <td>post</td>\n",
       "      <td>NaN</td>\n",
       "      <td>NaN</td>\n",
       "      <td>NaN</td>\n",
       "    </tr>\n",
       "    <tr>\n",
       "      <th>3</th>\n",
       "      <td>Violence Feared During Assembly Elections By N...</td>\n",
       "      <td>News India - Times</td>\n",
       "      <td>Indian</td>\n",
       "      <td>2001-01-05</td>\n",
       "      <td>post</td>\n",
       "      <td>NaN</td>\n",
       "      <td>NaN</td>\n",
       "      <td>NaN</td>\n",
       "    </tr>\n",
       "    <tr>\n",
       "      <th>4</th>\n",
       "      <td>Indrani Rahman's Final Bow By ARUN A. AGUIAR P...</td>\n",
       "      <td>News India - Times</td>\n",
       "      <td>Indian</td>\n",
       "      <td>1999-02-19</td>\n",
       "      <td>post</td>\n",
       "      <td>NaN</td>\n",
       "      <td>NaN</td>\n",
       "      <td>NaN</td>\n",
       "    </tr>\n",
       "  </tbody>\n",
       "</table>\n",
       "</div>"
      ],
      "text/plain": [
       "                                                text              source  \\\n",
       "0  Third Rate Or Not, No Meddling Please! By UPEN...  News India - Times   \n",
       "1  Phagwah Parade Draws Many By DHARMVIR GEHLAUT ...  News India - Times   \n",
       "2  Advani Blames Congress And UF DALTONGUNJ, Biha...  News India - Times   \n",
       "3  Violence Feared During Assembly Elections By N...  News India - Times   \n",
       "4  Indrani Rahman's Final Bow By ARUN A. AGUIAR P...  News India - Times   \n",
       "\n",
       "    group       date intervention  expanding  distancing  assimilating  \n",
       "0  Indian 1997-10-24         post        0.0         1.0           0.0  \n",
       "1  Indian 2001-03-23         post        NaN         NaN           NaN  \n",
       "2  Indian 1998-01-23         post        NaN         NaN           NaN  \n",
       "3  Indian 2001-01-05         post        NaN         NaN           NaN  \n",
       "4  Indian 1999-02-19         post        NaN         NaN           NaN  "
      ]
     },
     "execution_count": 3,
     "metadata": {},
     "output_type": "execute_result"
    }
   ],
   "source": [
    "\n",
    "# Select relevant columns and convert date column into Datetime format\n",
    "\n",
    "articles = articles[['text', 'source', 'group', 'date', 'intervention', 'expanding', 'distancing', 'assimilating']]\n",
    "\n",
    "articles['date'] =  pd.to_datetime(articles['date'], format='%Y%m%d')\n",
    "\n",
    "articles.head()"
   ]
  },
  {
   "cell_type": "markdown",
   "metadata": {},
   "source": [
    "### Create a response variable "
   ]
  },
  {
   "cell_type": "code",
   "execution_count": 4,
   "metadata": {},
   "outputs": [
    {
     "data": {
      "text/html": [
       "<div>\n",
       "<style scoped>\n",
       "    .dataframe tbody tr th:only-of-type {\n",
       "        vertical-align: middle;\n",
       "    }\n",
       "\n",
       "    .dataframe tbody tr th {\n",
       "        vertical-align: top;\n",
       "    }\n",
       "\n",
       "    .dataframe thead th {\n",
       "        text-align: right;\n",
       "    }\n",
       "</style>\n",
       "<table border=\"1\" class=\"dataframe\">\n",
       "  <thead>\n",
       "    <tr style=\"text-align: right;\">\n",
       "      <th></th>\n",
       "      <th>text</th>\n",
       "      <th>source</th>\n",
       "      <th>group</th>\n",
       "      <th>date</th>\n",
       "      <th>intervention</th>\n",
       "      <th>expanding</th>\n",
       "      <th>distancing</th>\n",
       "      <th>assimilating</th>\n",
       "      <th>category</th>\n",
       "    </tr>\n",
       "  </thead>\n",
       "  <tbody>\n",
       "    <tr>\n",
       "      <th>0</th>\n",
       "      <td>Third Rate Or Not, No Meddling Please! By UPEN...</td>\n",
       "      <td>News India - Times</td>\n",
       "      <td>Indian</td>\n",
       "      <td>1997-10-24</td>\n",
       "      <td>post</td>\n",
       "      <td>0.0</td>\n",
       "      <td>1.0</td>\n",
       "      <td>0.0</td>\n",
       "      <td>1</td>\n",
       "    </tr>\n",
       "    <tr>\n",
       "      <th>1</th>\n",
       "      <td>Phagwah Parade Draws Many By DHARMVIR GEHLAUT ...</td>\n",
       "      <td>News India - Times</td>\n",
       "      <td>Indian</td>\n",
       "      <td>2001-03-23</td>\n",
       "      <td>post</td>\n",
       "      <td>NaN</td>\n",
       "      <td>NaN</td>\n",
       "      <td>NaN</td>\n",
       "      <td>0</td>\n",
       "    </tr>\n",
       "    <tr>\n",
       "      <th>2</th>\n",
       "      <td>Advani Blames Congress And UF DALTONGUNJ, Biha...</td>\n",
       "      <td>News India - Times</td>\n",
       "      <td>Indian</td>\n",
       "      <td>1998-01-23</td>\n",
       "      <td>post</td>\n",
       "      <td>NaN</td>\n",
       "      <td>NaN</td>\n",
       "      <td>NaN</td>\n",
       "      <td>0</td>\n",
       "    </tr>\n",
       "    <tr>\n",
       "      <th>3</th>\n",
       "      <td>Violence Feared During Assembly Elections By N...</td>\n",
       "      <td>News India - Times</td>\n",
       "      <td>Indian</td>\n",
       "      <td>2001-01-05</td>\n",
       "      <td>post</td>\n",
       "      <td>NaN</td>\n",
       "      <td>NaN</td>\n",
       "      <td>NaN</td>\n",
       "      <td>0</td>\n",
       "    </tr>\n",
       "    <tr>\n",
       "      <th>4</th>\n",
       "      <td>Indrani Rahman's Final Bow By ARUN A. AGUIAR P...</td>\n",
       "      <td>News India - Times</td>\n",
       "      <td>Indian</td>\n",
       "      <td>1999-02-19</td>\n",
       "      <td>post</td>\n",
       "      <td>NaN</td>\n",
       "      <td>NaN</td>\n",
       "      <td>NaN</td>\n",
       "      <td>0</td>\n",
       "    </tr>\n",
       "  </tbody>\n",
       "</table>\n",
       "</div>"
      ],
      "text/plain": [
       "                                                text              source  \\\n",
       "0  Third Rate Or Not, No Meddling Please! By UPEN...  News India - Times   \n",
       "1  Phagwah Parade Draws Many By DHARMVIR GEHLAUT ...  News India - Times   \n",
       "2  Advani Blames Congress And UF DALTONGUNJ, Biha...  News India - Times   \n",
       "3  Violence Feared During Assembly Elections By N...  News India - Times   \n",
       "4  Indrani Rahman's Final Bow By ARUN A. AGUIAR P...  News India - Times   \n",
       "\n",
       "    group       date intervention  expanding  distancing  assimilating  \\\n",
       "0  Indian 1997-10-24         post        0.0         1.0           0.0   \n",
       "1  Indian 2001-03-23         post        NaN         NaN           NaN   \n",
       "2  Indian 1998-01-23         post        NaN         NaN           NaN   \n",
       "3  Indian 2001-01-05         post        NaN         NaN           NaN   \n",
       "4  Indian 1999-02-19         post        NaN         NaN           NaN   \n",
       "\n",
       "   category  \n",
       "0         1  \n",
       "1         0  \n",
       "2         0  \n",
       "3         0  \n",
       "4         0  "
      ]
     },
     "execution_count": 4,
     "metadata": {},
     "output_type": "execute_result"
    }
   ],
   "source": [
    "\n",
    "# Adding column to determine if there is relevant info (expanding, distancing, assimilating) or not \n",
    "\n",
    "response = []\n",
    "\n",
    "for x in articles['assimilating'].isnull().values:\n",
    "    if x == True:\n",
    "        response.append(0)\n",
    "    else:\n",
    "        response.append(1)\n",
    "\n",
    "# Create new binary column called category based on this\n",
    "# 1 indicates domestic issue, 0 indicates non-domestic issue\n",
    "\n",
    "articles['category'] = response\n",
    "\n",
    "articles.head()"
   ]
  },
  {
   "cell_type": "markdown",
   "metadata": {},
   "source": [
    "### Check the balance of classes\n",
    "\n",
    "To check whether we need to worry about imbalanced classification problems."
   ]
  },
  {
   "cell_type": "code",
   "execution_count": 5,
   "metadata": {},
   "outputs": [
    {
     "data": {
      "text/plain": [
       "1    574\n",
       "0    441\n",
       "Name: category, dtype: int64"
      ]
     },
     "execution_count": 5,
     "metadata": {},
     "output_type": "execute_result"
    }
   ],
   "source": [
    "articles['category'].value_counts()"
   ]
  },
  {
   "cell_type": "markdown",
   "metadata": {},
   "source": [
    "## Export cleaned corpus "
   ]
  },
  {
   "cell_type": "code",
   "execution_count": 6,
   "metadata": {},
   "outputs": [],
   "source": [
    "articles.to_csv(\"/home/jae/ITS-Text-Classification/processed_data/cleaned_text.csv\")"
   ]
  }
 ],
 "metadata": {
  "kernelspec": {
   "display_name": "Python 3",
   "language": "python",
   "name": "python3"
  },
  "language_info": {
   "codemirror_mode": {
    "name": "ipython",
    "version": 3
   },
   "file_extension": ".py",
   "mimetype": "text/x-python",
   "name": "python",
   "nbconvert_exporter": "python",
   "pygments_lexer": "ipython3",
   "version": "3.8.8"
  },
  "toc": {
   "base_numbering": 1,
   "nav_menu": {},
   "number_sections": true,
   "sideBar": true,
   "skip_h1_title": false,
   "title_cell": "Table of Contents",
   "title_sidebar": "Contents",
   "toc_cell": false,
   "toc_position": {},
   "toc_section_display": true,
   "toc_window_display": false
  }
 },
 "nbformat": 4,
 "nbformat_minor": 4
}
